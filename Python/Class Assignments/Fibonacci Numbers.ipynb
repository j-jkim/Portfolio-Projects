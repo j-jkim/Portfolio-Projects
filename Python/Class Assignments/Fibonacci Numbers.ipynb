{
  "metadata": {
    "kernelspec": {
      "name": "python",
      "display_name": "Python (Pyodide)",
      "language": "python"
    },
    "language_info": {
      "codemirror_mode": {
        "name": "python",
        "version": 3
      },
      "file_extension": ".py",
      "mimetype": "text/x-python",
      "name": "python",
      "nbconvert_exporter": "python",
      "pygments_lexer": "ipython3",
      "version": "3.8"
    }
  },
  "nbformat_minor": 5,
  "nbformat": 4,
  "cells": [
    {
      "cell_type": "markdown",
      "source": "## Fibonacci Numbers",
      "metadata": {},
      "id": "e24005cd-32f2-4c18-a910-29998e66aa35"
    },
    {
      "cell_type": "markdown",
      "source": "Write a program that lists the first Fibonacci numbers. The first two numbers are 0 and 1.",
      "metadata": {},
      "id": "b710798c-dfbe-4abb-ac10-12ed9841557f"
    },
    {
      "cell_type": "code",
      "source": "# Write a program that lists the first 25 Fibonacci numbers\n\n# setting up variables (first two #s)\nn1 = 0\nn2 = 1\nprint(n1)\nprint(n2)\n\n# for looping!\nfor i in range(2, 25):\n    next = n1 + n2  # essentially, the formula for fibonacci sequence!\n    print(next)\n    \n    n1 = n2         # so the numbers will be sequential and not \n    n2 = next       # stuck on just one number...",
      "metadata": {
        "trusted": true
      },
      "execution_count": 2,
      "outputs": [
        {
          "name": "stdout",
          "text": "0\n1\n1\n2\n3\n5\n8\n13\n21\n34\n55\n89\n144\n233\n377\n610\n987\n1597\n2584\n4181\n6765\n10946\n17711\n28657\n46368\n",
          "output_type": "stream"
        }
      ],
      "id": "fe978c4e-93fe-41df-baf8-adfc14999f57"
    }
  ]
}
