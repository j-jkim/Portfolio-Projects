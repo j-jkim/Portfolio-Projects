{
  "metadata": {
    "kernelspec": {
      "name": "python",
      "display_name": "Python (Pyodide)",
      "language": "python"
    },
    "language_info": {
      "codemirror_mode": {
        "name": "python",
        "version": 3
      },
      "file_extension": ".py",
      "mimetype": "text/x-python",
      "name": "python",
      "nbconvert_exporter": "python",
      "pygments_lexer": "ipython3",
      "version": "3.8"
    }
  },
  "nbformat_minor": 5,
  "nbformat": 4,
  "cells": [
    {
      "cell_type": "markdown",
      "source": "## Prime Number Finder using 'for' Loops",
      "metadata": {},
      "id": "e24005cd-32f2-4c18-a910-29998e66aa35"
    },
    {
      "cell_type": "markdown",
      "source": "Write a program that prompts the user to enter in a postiive number. Only accept positive numbers - if the user supplies a negative number or zero you should re-prompt them.\n\nNext, determine if the given number is a prime number. A prime number is a number that has no positive divisors other than 1 and itself. For example, 5 is prime because the only numbers that evenly divide into 5 are 1 and 5. 6, however, is not prime because 1, 2, 3 and 6 are all divisors of 6.",
      "metadata": {},
      "id": "b710798c-dfbe-4abb-ac10-12ed9841557f"
    },
    {
      "cell_type": "code",
      "source": "# ask user to enter a number\npos_num = int(input(\"Enter a positive number to test: \"))\n\n# to ensure that user puts in valid input\nwhile pos_num <= 0:\n    print(\"Sorry, that's invalid. Please try again!\")\n    print()\n    pos_num = int(input(\"Enter a positive number to test: \"))\n    \nprint()\n\nif pos_num == 1:\n    print(\"1 is technically not a prime number!\")\n\nelif pos_num == 2:\n    print(\"2 is a prime number!\")\n    \n# for looping!\nfor factor in range(2, pos_num): \n    if (pos_num % factor) != 0:\n        print(str(factor)+\" is NOT a divisor of \"+str(pos_num)+\" ... continuing\")\n\n        if factor == pos_num-1:\n            print()\n            print(str(pos_num)+\" is a prime number!\")\n            \n    else:\n        print(str(factor)+\" is a divisor of \"+str(pos_num)+\" ... stopping\")\n        print()\n        print(str(pos_num)+\" is not a prime number.\")\n        break",
      "metadata": {
        "trusted": true
      },
      "execution_count": null,
      "outputs": [],
      "id": "26f0813d-9eaf-42ff-a200-6817b9cb93f0"
    },
    {
      "cell_type": "markdown",
      "source": "Updating on top of program above so that it finds all prime numbers between 1 and 1000.",
      "metadata": {},
      "id": "daa22b4b-0006-47ab-aa17-ee1c49044781"
    },
    {
      "cell_type": "code",
      "source": "# printing since 1 is not a prime number \nprint(\"1 is technically not a prime number!\")\n\n# onto to the for loop!\nfor number in range(1, 1000+1):  # 1000+1 so 1000's not excluded \n   if number > 1:\n      for factor in range(2, number):\n         if (number % factor) == 0:  # check for each # to see if it has\n            break              # other factors other than itself and 1\n\n      else:\n         print(str(number)+\" is a prime number!\") ",
      "metadata": {
        "trusted": true
      },
      "execution_count": null,
      "outputs": [],
      "id": "fe978c4e-93fe-41df-baf8-adfc14999f57"
    },
    {
      "cell_type": "markdown",
      "source": "Updating on top of program above so that the user can choose to examin a specific range of numbers for prime numbers.",
      "metadata": {},
      "id": "0405acda-1dc3-484f-8050-2e78696a32cf"
    },
    {
      "cell_type": "code",
      "source": "# ask user for input\nstart = int(input(\"Start number: \"))\nend   = int(input(\"End number: \"))\n\n# making sure user puts valid input\nwhile start < 0 or end < 0:\n   print(\"Start and end must be positive\")\n   print()\n   start = int(input(\"Start number: \"))\n   end   = int(input(\"End number: \"))\n\n   # for when user puts positive values but end < start\n   if start > 0 and end > 0:  \n      while start > end:\n         print(\"End number must be greater than start number\")\n         print()\n         start = int(input(\"Start number: \"))\n         end   = int(input(\"End number: \"))\nprint()\n\n# onto to the for loop!\nfor number in range(start, end+1): \n   if number > 1:\n      for factor in range(2, number):\n         if (number % factor) == 0:  # check for each # to see if it has\n            break                    # other factors other than itself and 1\n      else:\n         print(number)",
      "metadata": {
        "trusted": true
      },
      "execution_count": null,
      "outputs": [],
      "id": "30a7ecc6-56e0-4d6f-b972-96ed88bdcab1"
    },
    {
      "cell_type": "markdown",
      "source": "Print the prime numbers that you find within the given range so that only 10 numbers print per line. Align the numbers so that they stack neatly on top of one another in all cases (i.e. the table should line up no matter what number range you are analyzing). ",
      "metadata": {},
      "id": "67fbae84-72e9-4a2f-b5ef-a9df2cb4427d"
    },
    {
      "cell_type": "code",
      "source": "# ask user for input\nstart = int(input(\"Start number: \"))\nend   = int(input(\"End number: \"))\n\n# making sure user puts valid input\nwhile start < 0 or end < 0:\n   print(\"Start and end must be positive\")\n   print()\n   start = int(input(\"Start number: \"))\n   end   = int(input(\"End number: \"))\n\n   # for when user puts positive values but end < start\n   if start > 0 and end > 0:  \n      while start > end:\n         print(\"End number must be greater than start number\")\n         print()\n         start = int(input(\"Start number: \"))\n         end   = int(input(\"End number: \"))\n\ncount = 0\n# onto to the for loop!\nfor number in range(start, end+1):\n   if number > 1:\n      for factor in range(2, number):\n         if (number % factor) == 0:  # check for each # to see if it has\n            break                    # other factors other than itself and 1\n      else:\n         count+=1\n         print(format(number, \">5d\"),end=' ')\n         \n         if count % 10 == 0:\n            print()",
      "metadata": {
        "trusted": true
      },
      "execution_count": null,
      "outputs": [],
      "id": "014079d1-baeb-4d5f-855f-84c9f033908b"
    }
  ]
}