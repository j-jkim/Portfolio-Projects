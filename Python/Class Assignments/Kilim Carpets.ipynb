{
  "metadata": {
    "kernelspec": {
      "name": "python",
      "display_name": "Python (Pyodide)",
      "language": "python"
    },
    "language_info": {
      "codemirror_mode": {
        "name": "python",
        "version": 3
      },
      "file_extension": ".py",
      "mimetype": "text/x-python",
      "name": "python",
      "nbconvert_exporter": "python",
      "pygments_lexer": "ipython3",
      "version": "3.8"
    }
  },
  "nbformat_minor": 5,
  "nbformat": 4,
  "cells": [
    {
      "cell_type": "markdown",
      "source": "# Create a kilim carpet design using only loops + nested loops\n",
      "metadata": {},
      "id": "75fe988e-4698-4e74-890f-ce3a035c433f"
    },
    {
      "cell_type": "code",
      "source": "## spaced rectanges - tails of carpet\ncurrent = 0\nwhile current < 2:\n   current += 1\n   for spaced_stars in range(25):\n      print(\"*\",end=' ')\n   print()\n\n## rectangle\nfor stars in range(49):\n   print(\"*\",end='')\nprint()\n\nfor stars in range(49):\n   print(\"*\",end='')\nprint()\n\n\n## checkerboard \ncount = 0\nfor stars in range(24):\n   count+=1\n   print(\"*\",end='')\n   while (count%3)==0:\n      for space in range(3):\n         print(\" \",end='')\n      break\nprint()\n\ncount = 0\nfor space in range(24):\n   count+=1\n   print(\" \",end='')\n   while (count%3)==0:\n      for stars in range(3):\n         print(\"*\",end='')\n      break\nprint()\n\ncount = 0\nfor stars in range(24):\n   count+=1\n   print(\"*\",end='')\n   while (count%3)==0:\n      for space in range(3):\n         print(\" \",end='')\n      break\nprint()\n\n\n## diamond pattern\nprint()\ncounter = 0\nwhile counter < 2:\n   counter += 1\n   # top part of diamonds\n   for row in range(0,4):\n      for extra_space in range(20):  \n         print(\" \",end='')\n      for space in range(row,3):\n         print(\" \",end='')\n      for star in range(0,row+1):\n        print(\"* \",end='')\n      print()\n   # bottom part of diamonds\n   for row in range(0,3):\n      for extra_space in range(20):\n         print(\" \",end='')\n      for space in range(0,row+1):\n        print(\" \",end='')\n      for star in range(row,3):\n        print(\"* \",end='')\n      print()\nprint()\n\n## checkerboard\ncount = 0\nfor stars in range(24):\n   count+=1\n   print(\"*\",end='')\n   while (count%3)==0:\n      for space in range(3):\n         print(\" \",end='')\n      break\nprint()\n\ncount = 0\nfor space in range(24):\n   count+=1\n   print(\" \",end='')\n   while (count%3)==0:\n      for stars in range(3):\n         print(\"*\",end='')\n      break\nprint()\n\ncount = 0\nfor stars in range(24):\n   count+=1\n   print(\"*\",end='')\n   while (count%3)==0:\n      for space in range(3):\n         print(\" \",end='')\n      break\nprint()\n\n## rectangle\nfor stars in range(49):\n   print(\"*\",end='')\nprint()\nfor stars in range(49):\n   print(\"*\",end='')\nprint()\n\n## spaced rectanges - tails of carpet\ncurrent = 0\nwhile current < 2:\n   current += 1\n   for spaced_stars in range(25):\n      print(\"*\",end=' ')\n   print()",
      "metadata": {
        "trusted": true
      },
      "execution_count": 2,
      "outputs": [
        {
          "name": "stdout",
          "text": "* * * * * * * * * * * * * * * * * * * * * * * * * \n* * * * * * * * * * * * * * * * * * * * * * * * * \n*************************************************\n*************************************************\n***   ***   ***   ***   ***   ***   ***   ***   \n   ***   ***   ***   ***   ***   ***   ***   ***\n***   ***   ***   ***   ***   ***   ***   ***   \n\n                       * \n                      * * \n                     * * * \n                    * * * * \n                     * * * \n                      * * \n                       * \n                       * \n                      * * \n                     * * * \n                    * * * * \n                     * * * \n                      * * \n                       * \n\n***   ***   ***   ***   ***   ***   ***   ***   \n   ***   ***   ***   ***   ***   ***   ***   ***\n***   ***   ***   ***   ***   ***   ***   ***   \n*************************************************\n*************************************************\n* * * * * * * * * * * * * * * * * * * * * * * * * \n* * * * * * * * * * * * * * * * * * * * * * * * * \n",
          "output_type": "stream"
        }
      ],
      "id": "f62efa38-8c8a-40e8-a221-365f328af585"
    }
  ]
}